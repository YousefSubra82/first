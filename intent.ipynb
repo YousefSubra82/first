{
 "cells": [
  {
   "cell_type": "code",
   "execution_count": 10,
   "metadata": {},
   "outputs": [],
   "source": [
    "import pandas as pd\n",
    "from sklearn.model_selection import train_test_split\n",
    "from sklearn.feature_extraction.text import TfidfVectorizer\n",
    "from sklearn.svm import LinearSVC\n",
    "from sklearn.pipeline import make_pipeline\n",
    "import ast\n",
    "import joblib\n",
    "\n",
    "# Load the dataset\n",
    "\n",
    "data = pd.read_csv(r\"C:\\Users\\CS\\Downloads\\intent\\intents.csv\")\n"
   ]
  },
  {
   "cell_type": "code",
   "execution_count": 11,
   "metadata": {},
   "outputs": [
    {
     "name": "stdout",
     "output_type": "stream",
     "text": [
      "Model accuracy on test set: 0.40425531914893614\n",
      "Model saved as 'LinearCVS.sav'\n"
     ]
    }
   ],
   "source": [
    "# Convert 'patterns' and 'responses' from string representations of lists to actual lists\n",
    "data['patterns'] = data['patterns'].apply(ast.literal_eval)\n",
    "data['responses'] = data['responses'].apply(ast.literal_eval)\n",
    "\n",
    "\n",
    "X = []  # Patterns\n",
    "y = []  # Tags (labels)\n",
    "for idx, row in data.iterrows():\n",
    "    for pattern in row['patterns']:\n",
    "        X.append(pattern)\n",
    "        y.append(row['tag'])\n",
    "\n",
    "# Split the data into training and testing sets\n",
    "X_train, X_test, y_train, y_test = train_test_split(X, y, test_size=0.2, random_state=42)\n",
    "\n",
    "# Create a pipeline for TF-IDF vectorization and SVM classification\n",
    "pipeline = make_pipeline(TfidfVectorizer(), LinearSVC())\n",
    "\n",
    "# Train the model\n",
    "pipeline.fit(X_train, y_train)\n",
    "\n",
    "# Evaluate the model on the test set\n",
    "accuracy = pipeline.score(X_test, y_test)\n",
    "print(\"Model accuracy on test set:\", accuracy)\n",
    "joblib.dump(LinearSVC, r\"C:\\Users\\CS\\Downloads\\graduation project\\11Task 1 For NLP preprocessing DataSet\\Task 1 For NLP preprocessing DataSet\\LinearCVS.sav\")\n",
    "print(\"Model saved as 'LinearCVS.sav'\")"
   ]
  },
  {
   "cell_type": "code",
   "execution_count": 12,
   "metadata": {},
   "outputs": [],
   "source": [
    "import random\n",
    "\n",
    "# Define a function to get a response from the chatbot\n",
    "def get_response(user_input):\n",
    "    # Predict the intent tag for the given user input\n",
    "    predicted_tag = pipeline.predict([user_input])[0]\n",
    "    # Retrieve a random response for the predicted tag\n",
    "    responses = data[data['tag'] == predicted_tag]['responses'].values[0]\n",
    "    return random.choice(responses)\n"
   ]
  },
  {
   "cell_type": "code",
   "execution_count": 13,
   "metadata": {},
   "outputs": [
    {
     "data": {
      "text/plain": [
       "\"I'm tamenny_team_project, your Personal medical AI Assistant. How are you feeling today\""
      ]
     },
     "execution_count": 13,
     "metadata": {},
     "output_type": "execute_result"
    }
   ],
   "source": [
    "input = \"how are you \"\n",
    "get_response(input)"
   ]
  },
  {
   "cell_type": "code",
   "execution_count": null,
   "metadata": {},
   "outputs": [],
   "source": []
  },
  {
   "cell_type": "code",
   "execution_count": null,
   "metadata": {},
   "outputs": [],
   "source": [
    "# Import necessary libraries\n",
    "model_path = r'C:\\Users\\CS\\Downloads\\graduation project\\11Task 1 For NLP preprocessing DataSet\\Task 1 For NLP preprocessing DataSet\\svm_model.sav'\n",
    "classify_disease= joblib.load(model_path)\n",
    "respond_chat= joblib.load(r\"C:\\Users\\CS\\Downloads\\graduation project\\11Task 1 For NLP preprocessing DataSet\\Task 1 For NLP preprocessing DataSet\\LinearCVS.sav\")\n",
    "\n",
    "\n",
    "def chatbot_response(user_input):\n",
    "    # Check if input seems health-related using keywords or entity recognition\n",
    "    if is_health_related(user_input):\n",
    "        # Route to disease classification model\n",
    "        disease = classify_disease(user_input)\n",
    "        if disease:\n",
    "            return f\"It sounds like you might have symptoms of {disease}. Here’s some advice...\"\n",
    "        else:\n",
    "            return \"I'm not sure about your symptoms. Could you provide more details?\"\n",
    "    else:\n",
    "        # Use general conversation model\n",
    "        return respond_chat(user_input)\n",
    "\n",
    "# Function to check if input is health-related (example with keywords)\n",
    "def is_health_related(user_input):\n",
    "    health_keywords = [\"symptom\", \"fever\", \"pain\", \"sore throat\", \"cough\"]\n",
    "    return any(keyword in user_input.lower() for keyword in health_keywords)\n"
   ]
  },
  {
   "cell_type": "code",
   "execution_count": null,
   "metadata": {},
   "outputs": [],
   "source": [
    "\n",
    "user_input = \" tttyv \"\n",
    "chatbot_response(user_input)"
   ]
  }
 ],
 "metadata": {
  "kernelspec": {
   "display_name": "Python 3",
   "language": "python",
   "name": "python3"
  },
  "language_info": {
   "codemirror_mode": {
    "name": "ipython",
    "version": 3
   },
   "file_extension": ".py",
   "mimetype": "text/x-python",
   "name": "python",
   "nbconvert_exporter": "python",
   "pygments_lexer": "ipython3",
   "version": "3.12.7"
  }
 },
 "nbformat": 4,
 "nbformat_minor": 2
}
